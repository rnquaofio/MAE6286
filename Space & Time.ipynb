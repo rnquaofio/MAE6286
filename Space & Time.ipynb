{
 "cells": [
  {
   "cell_type": "code",
   "execution_count": 1,
   "metadata": {
    "collapsed": true
   },
   "outputs": [],
   "source": [
    "import numpy \n",
    "from matplotlib import pyplot\n",
    "%matplotlib inline "
   ]
  },
  {
   "cell_type": "code",
   "execution_count": 2,
   "metadata": {
    "collapsed": true
   },
   "outputs": [],
   "source": [
    "# set the font family and size to use for Matplotlib fiqures.\n",
    "pyplot.rcParams['font.family'] = 'serif'\n",
    "pyplot.rcParams['font.size'] = 16"
   ]
  },
  {
   "cell_type": "code",
   "execution_count": 3,
   "metadata": {
    "collapsed": false
   },
   "outputs": [],
   "source": [
    "# Set parameters.\n",
    "nx = 41  # number of spatial discrete points\n",
    "L = 2.0  # length of the 1D domain\n",
    "dx = L / (nx - 1)  # spatial grid size\n",
    "nt = 25  # number of time steps\n",
    "dt = 0.02  # time-step size\n",
    "c = 1.0  # convection speed\n",
    "\n",
    "# Define the grid point coordinates.\n",
    "x = numpy.linspace(0.0, L, num=nx)"
   ]
  },
  {
   "cell_type": "code",
   "execution_count": 4,
   "metadata": {
    "collapsed": false
   },
   "outputs": [
    {
     "name": "stdout",
     "output_type": "stream",
     "text": [
      "(array([10, 11, 12, 13, 14, 15, 16, 17, 18, 19, 20]),)\n"
     ]
    }
   ],
   "source": [
    "# Set initial conditions with 1.0 everywhere (for now).\n",
    "u0 = numpy.ones(nx)\n",
    "# Get a list of indices where 0.5 <= x <= 1.0.\n",
    "mask = numpy.where(numpy.logical_and(x >= 0.5, x <= 1.0))\n",
    "print(mask)"
   ]
  },
  {
   "cell_type": "code",
   "execution_count": 5,
   "metadata": {
    "collapsed": false
   },
   "outputs": [
    {
     "name": "stdout",
     "output_type": "stream",
     "text": [
      "[ 1.  1.  1.  1.  1.  1.  1.  1.  1.  1.  2.  2.  2.  2.  2.  2.  2.  2.\n",
      "  2.  2.  2.  1.  1.  1.  1.  1.  1.  1.  1.  1.  1.  1.  1.  1.  1.  1.\n",
      "  1.  1.  1.  1.  1.]\n"
     ]
    }
   ],
   "source": [
    "# Set initial condition u = 2.0 where 0.5 <= x <= 1.0.\n",
    "u0[mask] = 2.0\n",
    "print(u0)"
   ]
  },
  {
   "cell_type": "code",
   "execution_count": 8,
   "metadata": {
    "collapsed": false
   },
   "outputs": [
    {
     "data": {
      "image/png": "[encoded data removed]",
      "text/plain": [
       "<matplotlib.figure.Figure at 0x7fe0926afa90>"
      ]
     },
     "metadata": {},
     "output_type": "display_data"
    }
   ],
   "source": [
    "# Plot the initial conditions.\n",
    "pyplot.figure(figsize=(4.0, 4.0))\n",
    "pyplot.title('Initial conditions')\n",
    "pyplot.xlabel('x')\n",
    "pyplot.ylabel('u')\n",
    "pyplot.grid()\n",
    "pyplot.plot(x, u0, linestyle='--', linewidth=2)\n",
    "pyplot.xlim(0.0, L)\n",
    "pyplot.ylim(0.0, 2.5);"
   ]
  },
  {
   "cell_type": "code",
   "execution_count": 9,
   "metadata": {
    "collapsed": true
   },
   "outputs": [],
   "source": [
    "u = u0.copy()\n",
    "for n in range(1, nt):\n",
    "    un = u.copy()\n",
    "    for i in range(1, nx):\n",
    "        u[i] = un[i] - c * dt / dx * (un[i] - un[i - 1])\n",
    "        "
   ]
  },
  {
   "cell_type": "code",
   "execution_count": 10,
   "metadata": {
    "collapsed": false
   },
   "outputs": [
    {
     "data": {
      "image/png": "[encoded data removed]",
      "text/plain": [
       "<matplotlib.figure.Figure at 0x7fe09267b3c8>"
      ]
     },
     "metadata": {},
     "output_type": "display_data"
    }
   ],
   "source": [
    "# Plot the solution after nt time steps\n",
    "# along with the initial conditions.\n",
    "pyplot.figure(figsize=(4.0, 4.0))\n",
    "pyplot.xlabel('x')\n",
    "pyplot.ylabel('u')\n",
    "pyplot.grid()\n",
    "pyplot.plot(x, u0, label='Initial',\n",
    "            linestyle='--', linewidth=2)\n",
    "pyplot.plot(x, u, label='nt = {}'.format(nt),\n",
    "            linestyle='-', linewidth=2)\n",
    "pyplot.legend()\n",
    "pyplot.xlim(0.0, L)\n",
    "pyplot.ylim(0.0, 2.5);"
   ]
  },
  {
   "cell_type": "code",
   "execution_count": 11,
   "metadata": {
    "collapsed": false
   },
   "outputs": [],
   "source": [
    "# Set parameters.\n",
    "nx = 41  # number of spatial discrete points\n",
    "L = 2.0  # length of the 1D domain\n",
    "dx = L / (nx - 1)  # spatial grid size\n",
    "nt = 10  # number of time steps\n",
    "dt = 0.02  # time-step size\n",
    "\n",
    "x = numpy.linspace(0.0, L, num=nx)\n",
    "u0 = numpy.ones(nx)\n",
    "mask = numpy.where(numpy.logical_and(x >= 0.5, x <= 1.0))\n",
    "u0[mask] = 2.0"
   ]
  },
  {
   "cell_type": "code",
   "execution_count": 12,
   "metadata": {
    "collapsed": false
   },
   "outputs": [
    {
     "data": {
      "image/png": "[encoded data removed]",
      "text/plain": [
       "<matplotlib.figure.Figure at 0x7fe092184eb8>"
      ]
     },
     "metadata": {},
     "output_type": "display_data"
    }
   ],
   "source": [
    "# Plot the initial conditions.\n",
    "pyplot.figure(figsize=(4.0, 4.0))\n",
    "pyplot.title('Initial conditions')\n",
    "pyplot.xlabel('x')\n",
    "pyplot.ylabel('u')\n",
    "pyplot.grid()\n",
    "pyplot.plot(x, u0, linestyle='--', linewidth=2)\n",
    "pyplot.xlim(0.0, L)\n",
    "pyplot.ylim(0.0, 2.5);"
   ]
  },
  {
   "cell_type": "code",
   "execution_count": 13,
   "metadata": {
    "collapsed": true
   },
   "outputs": [],
   "source": [
    "# Compute the solution using Euler's method and array slicing.\n",
    "u = u0.copy()\n",
    "for n in range(1, nt):\n",
    "    u[1:] = u[1:] - dt / dx * u[1:] * (u[1:] - u[:-1])"
   ]
  },
  {
   "cell_type": "code",
   "execution_count": 17,
   "metadata": {
    "collapsed": false
   },
   "outputs": [
    {
     "data": {
      "image/png": "[encoded data removed]",
      "text/plain": [
       "<matplotlib.figure.Figure at 0x7fe09209ff60>"
      ]
     },
     "metadata": {},
     "output_type": "display_data"
    }
   ],
   "source": [
    "# Plot the solution after nt time steps\n",
    "# along with the initial conditions.\n",
    "pyplot.figure(figsize=(4.0, 4.0))\n",
    "pyplot.xlabel('x')\n",
    "pyplot.ylabel('u')\n",
    "pyplot.grid()\n",
    "pyplot.plot(x, u0, label='Initial',\n",
    "            linestyle='--', linewidth=2)\n",
    "pyplot.plot(x, u, label='nt = {}'.format(nt),\n",
    "             linestyle='-', linewidth=2)\n",
    "pyplot.legend()\n",
    "pyplot.xlim(0.0, L)\n",
    "pyplot.ylim(0.0, 2.5);"
   ]
  },
  {
   "cell_type": "code",
   "execution_count": null,
   "metadata": {
    "collapsed": true
   },
   "outputs": [],
   "source": []
  }
 ],
 "metadata": {
  "kernelspec": {
   "display_name": "Python [Root]",
   "language": "python",
   "name": "Python [Root]"
  },
  "language_info": {
   "codemirror_mode": {
    "name": "ipython",
    "version": 3
   },
   "file_extension": ".py",
   "mimetype": "text/x-python",
   "name": "python",
   "nbconvert_exporter": "python",
   "pygments_lexer": "ipython3",
   "version": "3.5.2"
  }
 },
 "nbformat": 4,
 "nbformat_minor": 0
}
